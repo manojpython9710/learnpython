{
  "nbformat": 4,
  "nbformat_minor": 0,
  "metadata": {
    "colab": {
      "provenance": [],
      "name": "Function and Module.ipynb",
      "authorship_tag": "ABX9TyM5kZDiiqJkGjcgNcjPmt9P",
      "include_colab_link": true
    },
    "kernelspec": {
      "name": "python3",
      "display_name": "Python 3"
    },
    "language_info": {
      "name": "python"
    }
  },
  "cells": [
    {
      "cell_type": "markdown",
      "metadata": {
        "id": "view-in-github",
        "colab_type": "text"
      },
      "source": [
        "<a href=\"https://colab.research.google.com/github/manojpython9710/learnpython/blob/dev/Function_and_Module.ipynb\" target=\"_parent\"><img src=\"https://colab.research.google.com/assets/colab-badge.svg\" alt=\"Open In Colab\"/></a>"
      ]
    },
    {
      "cell_type": "code",
      "execution_count": 1,
      "metadata": {
        "id": "m1cun5Ag60ck",
        "colab": {
          "base_uri": "https://localhost:8080/"
        },
        "outputId": "013bf3d3-b5b9-435a-a453-2e45d18f2323"
      },
      "outputs": [
        {
          "output_type": "stream",
          "name": "stdout",
          "text": [
            "30\n"
          ]
        }
      ],
      "source": [
        "# Function declaration\n",
        "\n",
        "def add():\n",
        "  a = 10\n",
        "  b = 20\n",
        "  print ( a + b)\n",
        "\n",
        "add();\n",
        "\n"
      ]
    },
    {
      "cell_type": "code",
      "source": [
        "# Function declaration with value\n",
        "def add(num1, num2):\n",
        "  c = num1 + num2\n",
        "  print(c)\n",
        "\n",
        "add(10, 10)"
      ],
      "metadata": {
        "colab": {
          "base_uri": "https://localhost:8080/"
        },
        "id": "xhdn9e3t9_0P",
        "outputId": "01fb047d-cb2d-49bf-b736-debef591f663"
      },
      "execution_count": 8,
      "outputs": [
        {
          "output_type": "stream",
          "name": "stdout",
          "text": [
            "20\n"
          ]
        }
      ]
    },
    {
      "cell_type": "code",
      "source": [
        "# Function decleration with input from user\n",
        "\n",
        "num1 = input()\n",
        "num2 = input()\n",
        "\n",
        "def add():\n",
        "  c = num1 + num2\n",
        "  print(c)\n",
        "\n",
        "add()"
      ],
      "metadata": {
        "colab": {
          "base_uri": "https://localhost:8080/"
        },
        "id": "yFPXiA_Y_ZS5",
        "outputId": "7ad92e93-7e0a-45e6-d209-1e9117ec7bec"
      },
      "execution_count": 13,
      "outputs": [
        {
          "output_type": "stream",
          "name": "stdout",
          "text": [
            "20\n",
            "33\n",
            "2033\n"
          ]
        }
      ]
    },
    {
      "cell_type": "code",
      "source": [
        "# In the above result the while adding it as string\n",
        "\n",
        "num1 = input()\n",
        "num2 = input()\n",
        "\n",
        "def add():\n",
        "  c = int(num1) + int(num2) # Converting string to integer\n",
        "  print(c)\n",
        "\n",
        "add()"
      ],
      "metadata": {
        "colab": {
          "base_uri": "https://localhost:8080/"
        },
        "id": "DAsEa5YB_51c",
        "outputId": "65126775-4c0e-4c0b-f177-2f4b134d8d2a"
      },
      "execution_count": 15,
      "outputs": [
        {
          "output_type": "stream",
          "name": "stdout",
          "text": [
            "10\n",
            "20\n",
            "30\n"
          ]
        }
      ]
    },
    {
      "cell_type": "code",
      "source": [
        "# Multiple Functions2\n",
        "\n",
        "num1 = input()\n",
        "num2 = input()\n",
        "\n",
        "def add():\n",
        "  c = int(num1) + int(num2)\n",
        "  print ( \"Addition result is\", c)\n",
        "\n",
        "def sub():\n",
        "  c = int(num1) - int(num2)\n",
        "  print ( \"Subtraction result is \", c)\n",
        "\n",
        "add()\n",
        "sub()"
      ],
      "metadata": {
        "colab": {
          "base_uri": "https://localhost:8080/"
        },
        "id": "ZOvWfVq0A2E7",
        "outputId": "ed4cf769-a7c5-42db-eb4b-f707480b22ce"
      },
      "execution_count": 17,
      "outputs": [
        {
          "output_type": "stream",
          "name": "stdout",
          "text": [
            "10\n",
            "20\n",
            "Addition result is 30\n",
            "Subtraction result is  -10\n"
          ]
        }
      ]
    },
    {
      "cell_type": "code",
      "source": [
        "# Import module\n",
        "\n",
        "import sys\n",
        "\n",
        "num1 = sys.argv[0]\n",
        "num2 = sys.argv[1]\n",
        "\n",
        "print(num1 + num2)\n",
        "\n",
        "!python run_classifier.py \\\n",
        "10 20"
      ],
      "metadata": {
        "colab": {
          "base_uri": "https://localhost:8080/"
        },
        "id": "nLaZ4n_3BkuH",
        "outputId": "81feac13-8364-417e-be61-96620eb61ead"
      },
      "execution_count": 20,
      "outputs": [
        {
          "output_type": "stream",
          "name": "stdout",
          "text": [
            "/usr/local/lib/python3.10/dist-packages/colab_kernel_launcher.py-f\n",
            "python3: can't open file '/content/run_classifier.py': [Errno 2] No such file or directory\n"
          ]
        }
      ]
    }
  ]
}